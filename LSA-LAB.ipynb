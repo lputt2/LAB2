{
 "cells": [
  {
   "cell_type": "code",
   "execution_count": 1,
   "metadata": {
    "collapsed": true
   },
   "outputs": [],
   "source": [
    "\n",
    "from bs4 import BeautifulSoup\n",
    "import nltk\n",
    "from nltk.corpus import stopwords\n",
    "from sklearn.feature_extraction.text import TfidfVectorizer\n",
    "from sklearn.decomposition import TruncatedSVD"
   ]
  },
  {
   "cell_type": "code",
   "execution_count": 2,
   "metadata": {
    "collapsed": true
   },
   "outputs": [],
   "source": [
    "from sklearn.datasets import fetch_20newsgroups\n",
    "categories = ['rec.sport.baseball']\n",
    "dataset = fetch_20newsgroups(subset='all',shuffle=True, random_state=42, categories=categories)\n",
    "corpus = dataset.data"
   ]
  },
  {
   "cell_type": "code",
   "execution_count": null,
   "metadata": {
    "collapsed": true
   },
   "outputs": [],
   "source": [
    "corpus"
   ]
  },
  {
   "cell_type": "code",
   "execution_count": 4,
   "metadata": {
    "collapsed": false
   },
   "outputs": [
    {
     "name": "stdout",
     "output_type": "stream",
     "text": [
      "[nltk_data] Downloading package stopwords to\n",
      "[nltk_data]     C:\\Users\\anusha\\AppData\\Roaming\\nltk_data...\n",
      "[nltk_data]   Package stopwords is already up-to-date!\n"
     ]
    },
    {
     "data": {
      "text/plain": [
       "True"
      ]
     },
     "execution_count": 4,
     "metadata": {},
     "output_type": "execute_result"
    }
   ],
   "source": [
    "nltk.download('stopwords')"
   ]
  },
  {
   "cell_type": "code",
   "execution_count": 445,
   "metadata": {
    "collapsed": false
   },
   "outputs": [],
   "source": [
    "stopset = set(stopwords.words('english'))\n",
    "stopset.update([  'lowenstein','john','stankowitz','koufax','sandy','maybe',' john','jewish','netcom','nntp','bonds','20','sans','play','dave','1993','run','doesn','era','trying',\n",
    "        \n",
    "        'lt','p','/p','br','amp','quot','field','font','normal','span','0px','rgb','style','51', 'university','11am',\n",
    "                'spacing','text','helvetica','size','family', 'space', 'arial', 'height', 'indent', 'letter','believe','work',\n",
    "                'line','none','sans','serif','transform','line','variant','weight','times', 'new','strong', 'video', 'title'\n",
    "                'white','word','letter', 'roman','0pt','16','color','12','0','00','000','14','21', 'neue', 'apple', 'class','edu','com',\n",
    "                '001','616','100','0010','two','re','david','go','well','runs','would','ca','cs','make','may','could','know','20','one',\n",
    "                'john','nntp','0000ahc','udcps3','cps','like','000th','also','get','lines','year','0023','morris','aix','writes',\n",
    "                'mjones','run','time','let','002251w','0023','mike','last','people','day','netcom','won','team','see','games','win',\n",
    "                'game','host','dave','10','axe','acadiau','first','many','going','good','002','755','harris','jewish','last','second',\n",
    "                '734117130','think','best','win','right','even','way','since','ll','three','02','always','frank','subject','001211',\n",
    "                '18457','adobe','much','ever','lot','lafayette','lafibm','vb30','come','lowenstein','jhu','gant','roger','braves',\n",
    "                'hirschbeck','princeton','least','03','ball','red','04','thanks','tell','point','usa','sure','005','866','003','759',\n",
    "                'lankford','still','cc','003015','vmsb','csupomona','004746','13007','ramsey','15','isn','look','third','steve','base',\n",
    "                'got','colorado','mark','reason','sox','williams','blue','didn','polonia','bob','every','really','trying','want','give',\n",
    "                'smith','stats','anyone','might','us','little','joe','big','world','lost','pretty','jays','name','news','back','say',\n",
    "                '1993','nl','home','mail','made','al','never','0062','006','01','005314','5700','mnemosyne','sabo','able','thought',\n",
    "                'dale','stephenson','steph','alomar','white','ve','bonds','beloved','mets','maybe','lopez','mean','young','toronto','11',\n",
    "                'better','though','true','false','hank','baltimore','east','wondering','scott','boston','bases','west','swallows','find',\n",
    "                'around','yes','no','ted','list','greenberg','years','said','michael','0096b0f0','c5de05a0','msu','doesn','help','call',\n",
    "                'samuel','need','007','844','martinez','008','009','452','742','0096a95c','a0cbe0e8','actually','prism','gatech',\n",
    "                'pitching','05','06','07','08','09','past','idle','long','bad','start','end','guys','another','duke','phillies','remember',\n",
    "                'era','econ','rickert','hulman','left','hall','thing','fact','dept','na','reply','came','kingston','ibm','greg','however',\n",
    "                'hr','phillies','else','berkeley','00ecgillespie','san','reds','00bjgood','leo','bsuvc','00ecgillespi','rescinded',\n",
    "                'journalism','indiana','drake','dwarner','total','cornell','00cgbabbitt','without','gets','18','baerga','hp','aaa','yankee',\n",
    "                'used','minnesota','boggs','york','speed','matt','pitt','wins','1992','case','chicago','called','barman','rockies','philadelphia',\n",
    "                'davis','california','univ','mind','jack','enough','yankees','guy','use','box','23','take','00x','00mbstultz','bsu','peak',\n",
    "                'mss','non','pitchers','00pmleme','top','17','throw','4th','asd','greenwell','dp','spot','extra','post','sgi','plate',\n",
    "                'nichols','pitchers','henderson','500','22','maine','history','jhunix','jhunix','hcf','lurie','apr','real','course',\n",
    "                'next','high','singer','rule','says','eric','play','1993apr15','texas','someone','hit','13','tedward','stanford','vs',\n",
    "                'uiuc','recently','dennis','alleg','man','koufax','stankowitz','sandy','pablo','pitcher','0100','los','angeles','giants',\n",
    "                '010745','ryan','0100','x132','hof','30','jose','010423','11050','acns','number','things','ab','acad','sbp002','walks',\n",
    "                '00pmlemen','viola','atlanta','rather','fischer','24','somebody','something','given','ny','either','neither','yet','today',\n",
    "                'went','houston','oh','florida','jtchern','ocf','011653','7403','astro','pinch','torre','obp','gilkey','dcon','0114',\n",
    "                'demers','ucsd','dops','net','kingman','walk','done','012139','away','astros','1988','19','mlb','wasn','ba','cincinnati',\n",
    "                'runner','13444','clemens','old','new','25','619','534','013','015','014','016','017','705','lame','013653','names',\n",
    "                'talking','virginia','018','019','020','black','lelan','deshields','expos','indians','numbers','pirates','upenn','bill',\n",
    "                'james','du','valentine','yesterday','eagle','wesleyan','lee','twins','8770','lustig','edward','865','015442','0169','fax',\n",
    "                'sandberg','015908','10416','ncar','predict','anything','15723','please','cox','28','murray','11322 ','333','oz','hernandez','613','park',\n",
    "                'vma','early','020347','9554','mgweed','01810','rawley','eastwick','020426','41','3316','snichols','013145','seattle',\n",
    "                'put','kirsch','020832','11663','02086551','021','022','023','11319','024','030','715','diego','yeah','bass','island','hey','hi',\n",
    "                'almost','pittsburgh','tigers','300','alchemy','113','barry','cubs','02141','76','02086551 ','250','rose','02115','fath','mbcrr','thf2','408',\n",
    "                'leland','etc','020513','27363','chem','02138','1993apr20','0223','wouldn','02143','harry','chapin','cis','02172','pct gb'\n",
    "                'voice','800','alan','cal','50','sherri','weren','024643','022425','29145','article','5135','1111','1130','024222','11181','newshub',\n",
    "                '718','025','026','027','028','029','030','bordick','35','025636','major','ulkyvx','louisville','025027','4846','oswego','025331',\n",
    "                '17413','laurentian','1991','jones','seem','sorry','thomas','025018','23003','crux','032345','030934','23187','st',\n",
    "                '030713','1715','1993apr4','5178','1993apr18','contrary','eddie','gravey','11395','nolan','030412','1210','gspira','deleted','jim','032554','12401',\n",
    "                '032930','19811','033504','13966','36','032427','22464','035607','26095','ariel','035406','11473','vax','93','035220',\n",
    "                '21801','uvm','034558','28920','midway','yale','039','636','brian','038','631','573','039','040','067','151','yount','gb','114106','milwaukee',\n",
    "                '1143','consider','114967','115','115313','stupid','ndp','hs','472','ahead','different','ago','114qs7','oakland','117','11973',\n",
    "                \n",
    "                'uh','699','morandini','04131972','0400','karim','041','806','041','042','043','044','045','046','047','048','049','050',\n",
    "                'edvard','041620','27894','reynolds','others','george','ok','clarku','hhenderson','04473','ncaa','045040','10480','044201',\n",
    "                '27457','clark','uchicago','044248','16010','sarah','luriem','liberalizer','champs','32','050311','10098','0480','0456',\n",
    "                'tipper','gore','ozzie','051540','1367','27','robert','bo','sean','052','053','147','gt0523e','nhs','neb','052025','10610',\n",
    "                '150','052741','28429','brandeis','col','cin','garrison','059','053221','11240','056','totals','233','1993apr19','ron',\n",
    "                '158','34','05pm','35pm','june','05apr93','13661642','gary','olson','060','735','lewis','060413','9187','90','128',\n",
    "                '060493114752','060208','9187','write','17373','dkeisen','14691229','060540','27397','232551','061102','16204','060530',\n",
    "                '26367','061709','bohnert','1993apr17','063','713','devereaux','062907','062222','9960','31','108109','801','bnlux1',\n",
    "                '063339','10118','bnl','064','711','065','726','alou','650','545','065059','16619','06520','0688','8187','7029','069',\n",
    "                '2158','070','149','072','812','jackson','071','708','073051','9160','077','154','079','tc','umn','602','075','143','083',\n",
    "                '777','083','145','mil','tor','081214','3921','csd','085508','5787','wvnvms','086','190','200','084432','3805','26','average',\n",
    "                '087','146','nd','088','089','090','582','biggio','716','503','gonzalez','08903','johnson','091','144','656','182',\n",
    "                'far','whether','bchm','11322','115219ior','116','556','try','must','seems','116085','looking','talk','making',\n",
    "                '093231','5148','095','74','1b','817','1990','opinion','099','738','1000','10010717','hpfcso','3b','0l2','abs','ehd','0b12',\n",
    "                '100648','ns1','1009','100921rk0vsanu','1003','101','179','33','187','73','62','875','10176','bmerh85','bnr','101636',\n",
    "                'otago','ac','102','132','10280','10219','iccgcc','1024','10219','400','','posting','hitter','102857','tesla','103','hitting',\n",
    "               '10395','almserv','104','852','lind','joseph','louis','francisco','american','fan','probably','stolen','america','105', '177','118','117',\n",
    "                '244','1088','10th','situatons','111','112','saw','season','11331','rbi','1134','114','119','116tjt','119'\n",
    "                'city','11395','georgia','seen','116hr','59','compared','118466','118d','expect','agree',\n",
    "                \n",
    "                \n",
    "                  'best','win','right','even','way','since','00 00 00','dale', 'stephenson','30','852','015442','015','pegasus','nakagami','steph','indiana','every',\n",
    "'sherri', 'nichols','however','013','012139','rather','019','joe','ab','013653','01810','00x','020832 ','333','11','020426','020347 ','else','rose','mss','aaa','017','give','015908','0169','016','014','sandberg','want','around','1992','asd','011653','thanks','pretty','steve','something','011653','7403','princeton','long','able','22','0096a95c','010745','sabo','san','00pmlemen','jhu','certainly','007','005314','0000ahc','006','uiuc','0062','ll','three','02','always','frank','subject','001211','cs1','would','cold','then',\n",
    "                '106','nothing','likely','great','part','10650','as16','1060','brains','present','save','fans','road','106628','107','108','109','110','behind','berry',])\n"
   ]
  },
  {
   "cell_type": "code",
   "execution_count": 446,
   "metadata": {
    "collapsed": false
   },
   "outputs": [],
   "source": [
    "vectorizer = TfidfVectorizer(stop_words=stopset,\n",
    "                                 use_idf=True, ngram_range=(1, 3))\n",
    "X = vectorizer.fit_transform(corpus)"
   ]
  },
  {
   "cell_type": "code",
   "execution_count": 447,
   "metadata": {
    "collapsed": false
   },
   "outputs": [
    {
     "data": {
      "text/plain": [
       "<1x122638 sparse matrix of type '<type 'numpy.float64'>'\n",
       "\twith 120 stored elements in Compressed Sparse Row format>"
      ]
     },
     "execution_count": 447,
     "metadata": {},
     "output_type": "execute_result"
    }
   ],
   "source": [
    "X[0]"
   ]
  },
  {
   "cell_type": "code",
   "execution_count": 448,
   "metadata": {
    "collapsed": false
   },
   "outputs": [
    {
     "name": "stdout",
     "output_type": "stream",
     "text": [
      "  (0, 108993)\t0.0951989522304\n",
      "  (0, 42990)\t0.0951989522304\n",
      "  (0, 67727)\t0.0951989522304\n",
      "  (0, 87690)\t0.0951989522304\n",
      "  (0, 95367)\t0.0951989522304\n",
      "  (0, 65219)\t0.0951989522304\n",
      "  (0, 74912)\t0.0951989522304\n",
      "  (0, 40728)\t0.0951989522304\n",
      "  (0, 21510)\t0.0951989522304\n",
      "  (0, 42974)\t0.0951989522304\n",
      "  (0, 33668)\t0.0951989522304\n",
      "  (0, 58121)\t0.0951989522304\n",
      "  (0, 122057)\t0.0951989522304\n",
      "  (0, 53649)\t0.0951989522304\n",
      "  (0, 38057)\t0.0951989522304\n",
      "  (0, 60729)\t0.0951989522304\n",
      "  (0, 22647)\t0.0860463049268\n",
      "  (0, 79840)\t0.0860463049268\n",
      "  (0, 57984)\t0.0898449967755\n",
      "  (0, 73317)\t0.0898449967755\n",
      "  (0, 111486)\t0.0898449967755\n",
      "  (0, 53841)\t0.0898449967755\n",
      "  (0, 27250)\t0.0898449967755\n",
      "  (0, 19990)\t0.0898449967755\n",
      "  (0, 45611)\t0.0898449967755\n",
      "  :\t:\n",
      "  (0, 58115)\t0.0685932078588\n",
      "  (0, 122051)\t0.0726886420578\n",
      "  (0, 53604)\t0.0635359947543\n",
      "  (0, 38051)\t0.0768936576233\n",
      "  (0, 60725)\t0.0806923494719\n",
      "  (0, 57982)\t0.0860463049268\n",
      "  (0, 73308)\t0.0677410103197\n",
      "  (0, 111457)\t0.0585883630162\n",
      "  (0, 53827)\t0.0647945160101\n",
      "  (0, 27205)\t0.0507355655746\n",
      "  (0, 19988)\t0.0695042227729\n",
      "  (0, 95578)\t0.0715397021684\n",
      "  (0, 79836)\t0.143079404337\n",
      "  (0, 22620)\t0.128300534636\n",
      "  (0, 24824)\t0.135482020639\n",
      "  (0, 9214)\t0.0951989522304\n",
      "  (0, 62905)\t0.143079404337\n",
      "  (0, 109396)\t0.0786568700765\n",
      "  (0, 31063)\t0.0502879132517\n",
      "  (0, 74416)\t0.0786568700765\n",
      "  (0, 106006)\t0.0482524338562\n",
      "  (0, 78946)\t0.0133110746424\n",
      "  (0, 45609)\t0.161384698944\n",
      "  (0, 33650)\t0.208512668319\n",
      "  (0, 121611)\t0.0951989522304\n"
     ]
    }
   ],
   "source": [
    "print X[0]"
   ]
  },
  {
   "cell_type": "code",
   "execution_count": 449,
   "metadata": {
    "collapsed": false
   },
   "outputs": [
    {
     "data": {
      "text/plain": [
       "(994, 122638)"
      ]
     },
     "execution_count": 449,
     "metadata": {},
     "output_type": "execute_result"
    }
   ],
   "source": [
    "X.shape"
   ]
  },
  {
   "cell_type": "code",
   "execution_count": 450,
   "metadata": {
    "collapsed": false
   },
   "outputs": [
    {
     "data": {
      "text/plain": [
       "TruncatedSVD(algorithm='randomized', n_components=30, n_iter=100,\n",
       "       random_state=None, tol=0.0)"
      ]
     },
     "execution_count": 450,
     "metadata": {},
     "output_type": "execute_result"
    }
   ],
   "source": [
    "lsa = TruncatedSVD(n_components=30, n_iter=100)\n",
    "lsa.fit(X)"
   ]
  },
  {
   "cell_type": "code",
   "execution_count": 451,
   "metadata": {
    "collapsed": false
   },
   "outputs": [
    {
     "data": {
      "text/plain": [
       "array([ 0.00082745,  0.00067317,  0.00067317, ...,  0.00197561,\n",
       "        0.00197561,  0.00197561])"
      ]
     },
     "execution_count": 451,
     "metadata": {},
     "output_type": "execute_result"
    }
   ],
   "source": [
    "lsa.components_[0]"
   ]
  },
  {
   "cell_type": "code",
   "execution_count": 452,
   "metadata": {
    "collapsed": false,
    "scrolled": false
   },
   "outputs": [
    {
     "name": "stdout",
     "output_type": "stream",
     "text": [
      "Concept 0:\n",
      "baseball\n",
      "players\n",
      "organization\n",
      "clutch\n",
      "league\n",
      "batting\n",
      "player\n",
      "distribution\n",
      "baseball players\n",
      "series\n",
      " \n",
      "Concept 1:\n",
      "scores\n",
      "national\n",
      "dodgers\n",
      "angels\n",
      "city\n",
      "standings\n",
      "cardinals\n",
      "montreal\n",
      "detroit\n",
      "kansas city\n",
      " \n",
      "Concept 2:\n",
      "clutch\n",
      "performance\n",
      "batting\n",
      "11hfdf lab ntt\n",
      "future\n",
      "clutch clutch\n",
      "correlation\n",
      "clutch situations\n",
      "clutch performance\n",
      "stadium\n",
      " \n",
      "Concept 3:\n",
      "fame\n",
      "winfield\n",
      "career\n",
      "deserve\n",
      "robin\n",
      "playing\n",
      "marginal\n",
      "players\n",
      "evans\n",
      "guess\n",
      " \n",
      "Concept 4:\n",
      "players\n",
      "pitch\n",
      "clutch\n",
      "series\n",
      "defensive\n",
      "staff\n",
      "fielder\n",
      "100th career appears\n",
      "tate\n",
      "performance\n",
      " \n",
      "Concept 5:\n",
      "national\n",
      "outs\n",
      "future\n",
      "individual\n",
      "mule\n",
      "manager\n",
      "chance\n",
      "defensive\n",
      "strike\n",
      "player\n",
      " \n",
      "Concept 6:\n",
      "strike\n",
      "pitch\n",
      "11hfdf lab\n",
      "distribution\n",
      "11hr\n",
      "hitters\n",
      "position\n",
      "batter\n",
      "biochem\n",
      "week\n",
      " \n",
      "Concept 7:\n",
      "baseball players\n",
      "manager\n",
      "outs\n",
      "11hr\n",
      "players\n",
      "pitch\n",
      "league\n",
      "clutch\n",
      "11hfdf\n",
      "played\n",
      " \n",
      "Concept 8:\n",
      "league\n",
      "record\n",
      "batting\n",
      "lead\n",
      "situations\n",
      "tate\n",
      "lock\n",
      "stadium\n",
      "bat\n",
      "performance\n",
      " \n",
      "Concept 9:\n",
      "baseball\n",
      "series\n",
      "defense\n",
      "watch\n",
      "11hfdf lab ntt\n",
      "division\n",
      "institute\n",
      "wrong\n",
      "math\n",
      "understand\n",
      " \n",
      "Concept 10:\n",
      "players\n",
      "clutch\n",
      "bat\n",
      "couple\n",
      "donald\n",
      "computing\n",
      "scores\n",
      "institute\n",
      "fame\n",
      "national\n",
      " \n",
      "Concept 11:\n",
      "staff\n",
      "players\n",
      "swing\n",
      "situation\n",
      "kubey\n",
      "batting\n",
      "teams\n",
      "119hvq lab ntt\n",
      "maynard\n",
      "mattingly\n",
      " \n",
      "Concept 12:\n",
      "league\n",
      "technology\n",
      "institute\n",
      "winfield\n",
      "bat\n",
      "services\n",
      "wade\n",
      "mvp\n",
      "majors\n",
      "hits\n",
      " \n",
      "Concept 13:\n",
      "distribution\n",
      "pitch\n",
      "league\n",
      "hits\n",
      "defense\n",
      "baseball\n",
      "organization\n",
      "batting\n",
      "clutch\n",
      "teams\n",
      " \n",
      "Concept 14:\n",
      "player\n",
      "performance\n",
      "series\n",
      "plays\n",
      "scored\n",
      "score\n",
      "cleveland\n",
      "chance\n",
      "100th career\n",
      "played\n",
      " \n",
      "Concept 15:\n",
      "players\n",
      "distribution\n",
      "119hvq lab ntt\n",
      "league\n",
      "11hfdf\n",
      "inning\n",
      "dodgers\n",
      "scoring\n",
      "makes\n",
      "yorku\n",
      " \n",
      "Concept 16:\n",
      "pitches\n",
      "119hvq lab ntt\n",
      "100th career appears\n",
      "pitch\n",
      "league\n",
      "future\n",
      "cleveland\n",
      "engineering\n",
      "scores\n",
      "available\n",
      " \n",
      "Concept 17:\n",
      "119hvq lab ntt\n",
      "players\n",
      "couple\n",
      "statistics\n",
      "baseman\n",
      "situations\n",
      "knows\n",
      "strike\n",
      "individual\n",
      "sports\n",
      " \n",
      "Concept 18:\n",
      "distribution\n",
      "batting\n",
      "119hvq lab ntt\n",
      "series\n",
      "clutch\n",
      "state\n",
      "dodgers\n",
      "age\n",
      "player\n",
      "question\n",
      " \n",
      "Concept 19:\n",
      "pitch\n",
      "119hvq lab ntt\n",
      "defensive\n",
      "orioles\n",
      "lead\n",
      "situation\n",
      "distribution\n",
      "especially\n",
      "four\n",
      "division\n",
      " \n",
      "Concept 20:\n",
      "player\n",
      "119hvq lab ntt\n",
      "scores\n",
      "players\n",
      "pitch\n",
      "11hr\n",
      "playing\n",
      "future\n",
      "internet\n",
      "mattingly\n",
      " \n",
      "Concept 21:\n",
      "league\n",
      "distribution\n",
      "player\n",
      "wrong\n",
      "11hfdf lab\n",
      "score\n",
      "scored\n",
      "pitches\n",
      "data\n",
      "royals\n",
      " \n",
      "Concept 22:\n",
      "batting\n",
      "distribution\n",
      "career\n",
      "100th career appears\n",
      "defense\n",
      "organization\n",
      "sports\n",
      "dodgers\n",
      "clutch\n",
      "teams\n",
      " \n",
      "Concept 23:\n",
      "series\n",
      "baseball\n",
      "baseball players\n",
      "league\n",
      "distribution\n",
      "sign\n",
      "computing\n",
      "offensive\n",
      "winfield\n",
      "pitches\n",
      " \n",
      "Concept 24:\n",
      "11hfdf lab\n",
      "players\n",
      "baseball\n",
      "league\n",
      "100th career appears\n",
      "division\n",
      "series\n",
      "angels\n",
      "staff\n",
      "april\n",
      " \n",
      "Concept 25:\n",
      "119hvq lab ntt\n",
      "players\n",
      "100th career appears\n",
      "performance\n",
      "innings\n",
      "defensive\n",
      "11hr 70rbi\n",
      "11hfdf lab\n",
      "montreal\n",
      "scoring\n",
      " \n",
      "Concept 26:\n",
      "players\n",
      "11hfdf\n",
      "119hvq\n",
      "baseball\n",
      "11hr\n",
      "player\n",
      "11hfdf lab ntt\n",
      "bat\n",
      "career\n",
      "11hfdf lab\n",
      " \n",
      "Concept 27:\n",
      "119hvq lab ntt\n",
      "11hr\n",
      "baseball\n",
      "league\n",
      "teams\n",
      "national\n",
      "score\n",
      "donald\n",
      "119hvq\n",
      "defense\n",
      " \n",
      "Concept 28:\n",
      "players\n",
      "11hr 70rbi\n",
      "11hr\n",
      "series\n",
      "career\n",
      "distribution\n",
      "100th career\n",
      "clutch\n",
      "worst\n",
      "pitched\n",
      " \n",
      "Concept 29:\n",
      "baseball\n",
      "players\n",
      "100th career\n",
      "119hvq lab ntt\n",
      "player\n",
      "scores\n",
      "teams\n",
      "11hfdf lab ntt\n",
      "batting\n",
      "inning\n",
      " \n"
     ]
    }
   ],
   "source": [
    "terms = vectorizer.get_feature_names()\n",
    "for i, comp in enumerate(lsa.components_): \n",
    "    termsInComp = zip (terms,comp)\n",
    "    sortedTerms =  sorted(termsInComp, key=lambda x: x[1], reverse=True) [:10]\n",
    "    print \"Concept %d:\" % i\n",
    "    for term in sortedTerms:\n",
    "        print term[0]\n",
    "    print \" \""
   ]
  },
  {
   "cell_type": "code",
   "execution_count": null,
   "metadata": {
    "collapsed": true
   },
   "outputs": [],
   "source": []
  },
  {
   "cell_type": "code",
   "execution_count": null,
   "metadata": {
    "collapsed": true
   },
   "outputs": [],
   "source": []
  },
  {
   "cell_type": "code",
   "execution_count": null,
   "metadata": {
    "collapsed": true
   },
   "outputs": [],
   "source": []
  },
  {
   "cell_type": "code",
   "execution_count": null,
   "metadata": {
    "collapsed": true
   },
   "outputs": [],
   "source": []
  },
  {
   "cell_type": "code",
   "execution_count": null,
   "metadata": {
    "collapsed": true
   },
   "outputs": [],
   "source": []
  }
 ],
 "metadata": {
  "kernelspec": {
   "display_name": "Python 2",
   "language": "python",
   "name": "python2"
  },
  "language_info": {
   "codemirror_mode": {
    "name": "ipython",
    "version": 2
   },
   "file_extension": ".py",
   "mimetype": "text/x-python",
   "name": "python",
   "nbconvert_exporter": "python",
   "pygments_lexer": "ipython2",
   "version": "2.7.11"
  }
 },
 "nbformat": 4,
 "nbformat_minor": 0
}
